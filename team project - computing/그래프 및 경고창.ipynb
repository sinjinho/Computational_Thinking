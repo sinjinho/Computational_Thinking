{
  "cells": [
    {
      "cell_type": "code",
      "execution_count": null,
      "metadata": {
        "collapsed": false
      },
      "outputs": [],
      "source": []
    },
    {
      "cell_type": "code",
      "execution_count": null,
      "metadata": {},
      "outputs": [],
      "source": []
    },
    {
      "cell_type": "code",
      "execution_count": 2,
      "metadata": {},
      "outputs": [
        {
          "data": {
            "image/png": "[encoded data removed]",
            "text/plain": [
              "<Figure size 1000x400 with 1 Axes>"
            ]
          },
          "metadata": {},
          "output_type": "display_data"
        }
      ],
      "source": [
        "# 그래프\n",
        "import tkinter as tk\n",
        "from pandas import DataFrame\n",
        "import matplotlib.pyplot as plt\n",
        "from matplotlib.backends.backend_tkagg import FigureCanvasTkAgg\n",
        "import pandas as pd\n",
        "\n",
        "색깔=\"blue\"\n",
        "\n",
        "plt.rc('font', family='Malgun Gothic')\n",
        "plt.rc(\"font\", size=10)\n",
        "plt.rc('axes', unicode_minus=False)\n",
        "\n",
        "#요일\n",
        "day=[\"월요일\",\"화요일\",\"수요일\",\"목요일\",\"금요일\",\"토요일\",\"일요일\"]\n",
        "\n",
        "#해야 할 일(숫자 임의로 씀)\n",
        "goal=[5, 7, 3, 5, 10, 9, 10]\n",
        "\n",
        "#달성한 일(숫자 임의로 씀)\n",
        "achievement=[1, 2, 3, 4, 5, 6, 7]\n",
        "\n",
        "데이터={\"요일\" : day, \"해야 할 일\" : goal, \"달성한 일\" : achievement}\n",
        "table=pd.DataFrame(데이터)\n",
        "\n",
        "root=tk.Tk()\n",
        "root.title(\"주간 성취 그래프\")\n",
        "root.geometry(\"800x600\")\n",
        "\n",
        "fig, ax = plt.subplots(figsize=(10, 4))\n",
        "ax.bar(table['요일'], table['해야 할 일'], color='grey', label='해야 할 일')\n",
        "ax.bar(table[\"요일\"], table[\"달성한 일\"], color=색깔, label='달성한 일')\n",
        "ax.set_title(\"요일별 해야 할 일과 달성한 일\")\n",
        "ax.legend()\n",
        "\n",
        "canvas = FigureCanvasTkAgg(fig, master=root)\n",
        "canvas.draw()\n",
        "canvas.get_tk_widget().pack()\n"
      ]
    },
    {
      "cell_type": "code",
      "execution_count": null,
      "metadata": {},
      "outputs": [],
      "source": [
        "import re\n",
        "from tkinter import messagebox\n",
        "\n",
        "\n",
        "\n",
        "def is_time_conflict(day_idx, new_time):\n",
        "    for item in default_values[day_idx]:\n",
        "        if item.startswith(new_time):  # \"HH:MM\"이 겹치면 중복\n",
        "            return True\n",
        "    return False\n",
        "\n",
        "def add_value(day_idx):\n",
        "    raw = entry_vars[day_idx].get().strip()\n",
        "\n",
        "    if not raw:\n",
        "        return\n",
        "\n",
        "    # \"HH:MM 내용\" 형식인지 확인\n",
        "    match = re.match(r'^([0-2][0-9]:[0-5][0-9])\\s(.+)$', raw)\n",
        "    if not match:\n",
        "        messagebox.showwarning(\"입력 오류\", \"시간은 'HH:MM 내용' 형식으로 입력하세요.\\n예: 09:30 운동\")\n",
        "        return\n",
        "\n",
        "    time, task = match.groups()\n",
        "\n",
        "    # 중복 검사\n",
        "    if is_time_conflict(day_idx, time):\n",
        "        messagebox.showwarning(\"시간 중복\", f\"{day[day_idx]}요일에 {time}에 이미 일정이 있습니다!\")\n",
        "        return\n",
        "\n",
        "    # 추가 및 UI 갱신\n",
        "    default_values[day_idx].append(f\"{time} {task}\")\n",
        "    default_values[day_idx].sort()\n",
        "    entry_vars[day_idx].set(\"\")\n",
        "    refresh_day_values(day_idx)\n"
      ]
    }
  ],
  "metadata": {
    "kernelspec": {
      "display_name": "Python 3",
      "language": "python",
      "name": "python3"
    },
    "language_info": {
      "codemirror_mode": {
        "name": "ipython",
        "version": 3
      },
      "file_extension": ".py",
      "mimetype": "text/x-python",
      "name": "python",
      "nbconvert_exporter": "python",
      "pygments_lexer": "ipython3",
      "version": "3.11.5"
    }
  },
  "nbformat": 4,
  "nbformat_minor": 0
}
